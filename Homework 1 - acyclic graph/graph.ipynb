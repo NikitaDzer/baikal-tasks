{
 "cells": [
  {
   "cell_type": "code",
   "execution_count": 84,
   "id": "390a8ca1-5f31-431c-bac2-ad9bb522cd6a",
   "metadata": {},
   "outputs": [],
   "source": [
    "import numpy as np\n",
    "import matplotlib.pyplot as plt\n",
    "import graphviz"
   ]
  },
  {
   "cell_type": "markdown",
   "id": "753774b2-248a-4116-8f98-4e07767fd12f",
   "metadata": {},
   "source": [
    "## Построить граф"
   ]
  },
  {
   "cell_type": "code",
   "execution_count": 139,
   "id": "b7e6ff82-8e2b-4cb0-8937-4debb7d3aee4",
   "metadata": {},
   "outputs": [],
   "source": [
    "def BuildGraph(data):\n",
    "    graph = {}\n",
    "    \n",
    "    for line in data:\n",
    "        tokens = line.strip().split(' ')\n",
    "        node = tokens[0]\n",
    "        graph[node] = []\n",
    "        \n",
    "        for i in range(1, len(tokens)):\n",
    "            succ = tokens[i]\n",
    "            graph[node].append(succ)\n",
    "            \n",
    "            if succ not in graph:\n",
    "                graph[succ] = []\n",
    "\n",
    "    return graph"
   ]
  },
  {
   "cell_type": "markdown",
   "id": "caa74222-34f0-42fb-8322-a518adf9a087",
   "metadata": {},
   "source": [
    "## Проверить граф на ацикличность"
   ]
  },
  {
   "cell_type": "code",
   "execution_count": 140,
   "id": "48464eeb-cfc7-4789-b9c7-cb37bf29d92d",
   "metadata": {},
   "outputs": [],
   "source": [
    "def IsGraphAcycle(graph):\n",
    "    is_asycle = True\n",
    "    colors = {}\n",
    "\n",
    "    for key in graph.keys():\n",
    "        colors[key] = 'white'\n",
    "    \n",
    "    def IsGraphAcycleRec(node):\n",
    "        colors[node] = 'grey'\n",
    "\n",
    "        for succ in graph[node]:\n",
    "            if (colors[succ] == 'white'):\n",
    "                if IsGraphAcycleRec(succ) == False:\n",
    "                    return False\n",
    "                    \n",
    "            if (colors[succ] == 'grey'):\n",
    "                return False\n",
    "        \n",
    "        colors[node] = 'black'\n",
    "        return True\n",
    "\n",
    "    for node in graph.keys():\n",
    "        is_asycle = is_asycle and IsGraphAcycleRec(node)\n",
    "        \n",
    "    return is_asycle"
   ]
  },
  {
   "cell_type": "markdown",
   "id": "7e937f26-8f2e-405c-a1f8-90dd94435dd9",
   "metadata": {},
   "source": [
    "## Построить Start ноду"
   ]
  },
  {
   "cell_type": "code",
   "execution_count": 141,
   "id": "aa5d2a56-8918-4c94-be73-00d108449751",
   "metadata": {},
   "outputs": [],
   "source": [
    "def FindRoots(graph):\n",
    "    roots = set()\n",
    "\n",
    "    # Найти корень данного подграфа\n",
    "    def FindRootRec(current):\n",
    "        is_intermediate = False\n",
    "        \n",
    "        for [node, succs] in graph.items():\n",
    "            if current in succs:\n",
    "                FindRootRec(node)\n",
    "                is_intermediate = True\n",
    "\n",
    "        if not is_intermediate:\n",
    "            roots.add(current)\n",
    "\n",
    "    for node in graph.keys():\n",
    "        FindRootRec(node)\n",
    "\n",
    "    return list(roots)\n",
    "\n",
    "\n",
    "def AddStartNode(graph, name):\n",
    "    graph[name] = FindRoots(graph)"
   ]
  },
  {
   "cell_type": "markdown",
   "id": "93830da9-4033-4ae5-8762-85cfb2e640a2",
   "metadata": {},
   "source": [
    "## Построить End ноду"
   ]
  },
  {
   "cell_type": "code",
   "execution_count": 142,
   "id": "489772c2-d2c2-4822-9375-36b213b61dcd",
   "metadata": {},
   "outputs": [],
   "source": [
    "def FindLeaves(graph):\n",
    "    leaves = []\n",
    "    \n",
    "    for [node, succs] in graph.items():\n",
    "        if len(succs) == 0:\n",
    "            leaves.append(node)\n",
    "\n",
    "    return leaves\n",
    "\n",
    "\n",
    "def AddEndNode(graph, name):\n",
    "    leaves = FindLeaves(graph)\n",
    "    graph[name] = []\n",
    "    \n",
    "    for leaf in leaves:\n",
    "        graph[leaf] = [name]"
   ]
  },
  {
   "cell_type": "markdown",
   "id": "ddd1807b-4a50-4ac3-a767-28454b03453f",
   "metadata": {},
   "source": [
    "## Топологически пронумеровать граф"
   ]
  },
  {
   "cell_type": "code",
   "execution_count": 143,
   "id": "f18b1e58-5bdc-461a-9933-583b42d623b8",
   "metadata": {},
   "outputs": [],
   "source": [
    "def BuildTopologicalNumbering(graph, start):\n",
    "    colors = {}\n",
    "    rev_stack = []\n",
    "    numbering = {}\n",
    "    \n",
    "    for node in graph.keys():\n",
    "        colors[node] = 'white'\n",
    "\n",
    "    def BuildTopologicalNumberingRec(node):\n",
    "        if colors[node] == 'black':\n",
    "            return\n",
    "\n",
    "        if colors[node] == 'grey':\n",
    "            assert 0, 'Topological numbering cannot be used for cycled graph!'\n",
    "\n",
    "        if colors[node] == 'white':\n",
    "            colors[node] = 'grey'\n",
    "\n",
    "            for succ in graph[node]:\n",
    "                BuildTopologicalNumberingRec(succ)\n",
    "\n",
    "            colors[node] = 'black'\n",
    "            rev_stack.insert(0, node)\n",
    "\n",
    "\n",
    "    BuildTopologicalNumberingRec(start)\n",
    "\n",
    "    for i in range(len(rev_stack)):\n",
    "        node = rev_stack[i]\n",
    "        numbering[node] = i\n",
    "\n",
    "    return numbering"
   ]
  },
  {
   "cell_type": "markdown",
   "id": "08c08764-6b50-4dc2-8841-e335bbabc023",
   "metadata": {},
   "source": [
    "## Перевернуть граф"
   ]
  },
  {
   "cell_type": "code",
   "execution_count": 144,
   "id": "adcd29ee-a4ae-45d2-b76c-b9dc80c0dc09",
   "metadata": {},
   "outputs": [],
   "source": [
    "def BuildFlippedGraph(graph, start):\n",
    "    preds = {}\n",
    "\n",
    "    for node in graph.keys():\n",
    "        preds[node] = set()\n",
    "\n",
    "    def BuildFlippedGraphRec(node):\n",
    "        for succ in graph[node]:\n",
    "            preds[succ].add(node)\n",
    "            BuildFlippedGraphRec(succ)\n",
    "\n",
    "    BuildFlippedGraphRec(start)\n",
    "\n",
    "    for node in preds:\n",
    "        preds[node] = list(preds[node])\n",
    "    \n",
    "    return preds"
   ]
  },
  {
   "cell_type": "markdown",
   "id": "3cadfc5e-e83a-4746-b886-f0db061c5798",
   "metadata": {},
   "source": [
    "## Построить дерево доминаторов"
   ]
  },
  {
   "cell_type": "code",
   "execution_count": 145,
   "id": "594a2b2c-0656-466e-8148-9a60bb23c3e6",
   "metadata": {},
   "outputs": [],
   "source": [
    "def BuildDomTree(graph, start):\n",
    "    flipped_graph = BuildFlippedGraph(graph, start)\n",
    "    numbering = BuildTopologicalNumbering(graph, start)\n",
    "    doms = {}\n",
    "\n",
    "    for node in graph.keys():\n",
    "        doms[node] = set()\n",
    "        doms[node].add(node)\n",
    "\n",
    "    # Спускаемся от Start вниз\n",
    "    for i in range(len(graph.keys())):\n",
    "        # Найти ноду с номером i\n",
    "        node = list(numbering.keys())[list(numbering.values()).index(i)]\n",
    "        tmp = set()\n",
    "        preds = flipped_graph[node]\n",
    "\n",
    "        # Пересекаем множества dom для всех preds\n",
    "        if len(preds) != 0:\n",
    "            tmp.update(doms[preds[0]])\n",
    "            \n",
    "            for j in range(1, len(preds)):\n",
    "                tmp.intersection_update(doms[preds[j]])\n",
    "\n",
    "        # Объединяем текущую ноду и полученное пересечение\n",
    "        doms[node].update(tmp)\n",
    "\n",
    "    idoms = {}\n",
    "\n",
    "    for node in doms.keys():\n",
    "        indexes = []\n",
    "        \n",
    "        for dom in doms[node]:\n",
    "            indexes.append(numbering[dom])\n",
    "\n",
    "        indexes.sort()\n",
    "        \n",
    "        if len(indexes) == 1:\n",
    "            # Один dom => нет Idom\n",
    "            idoms[node] = None\n",
    "        else:\n",
    "            # Препдоследний номер - номер Idom\n",
    "            idom_index = indexes[-2]\n",
    "\n",
    "            # Поиск Idom по номеру\n",
    "            idom = list(numbering.keys())[list(numbering.values()).index(idom_index)]\n",
    "            idoms[node] = idom\n",
    "\n",
    "    idom_tree = {}\n",
    "\n",
    "    # Построить дерево доминаторов из словаря {node: idom} \n",
    "    for idom in idoms.keys():\n",
    "        idom_tree[idom] = []\n",
    "\n",
    "        for node in idoms.keys():\n",
    "            if idoms[node] == idom:\n",
    "                idom_tree[idom].append(node)\n",
    "    \n",
    "    return idom_tree"
   ]
  },
  {
   "cell_type": "markdown",
   "id": "b14c399c-b79c-4218-8cb0-47c665e75e81",
   "metadata": {},
   "source": [
    "## Отрисовать граф"
   ]
  },
  {
   "cell_type": "code",
   "execution_count": 146,
   "id": "e00709b6-bcad-42fe-a5b3-af4241f207b0",
   "metadata": {},
   "outputs": [],
   "source": [
    "def RenderGraph(graph, name, xlabel = None):\n",
    "    dot = graphviz.Digraph(name, format='png')\n",
    "    \n",
    "    for [node, succs] in graph.items():\n",
    "        dot.node(node, node)\n",
    "\n",
    "        if xlabel:\n",
    "            dot.body.append(f'\\t{node} [xlabel = {xlabel[node]}]\\n')\n",
    "        \n",
    "        for succ in succs:\n",
    "            dot.edge(node, succ)\n",
    "    \n",
    "    dot.render()"
   ]
  },
  {
   "cell_type": "markdown",
   "id": "855ddec0-2179-4764-beef-738fcacdd98b",
   "metadata": {},
   "source": [
    "# Работа с конкретным графом"
   ]
  },
  {
   "cell_type": "code",
   "execution_count": 148,
   "id": "a6d80a4e-f283-422a-a340-5212c6ccd2e2",
   "metadata": {},
   "outputs": [
    {
     "name": "stdout",
     "output_type": "stream",
     "text": [
      "Is graph acycle: True\n"
     ]
    }
   ],
   "source": [
    "data = []\n",
    "filename = 'data.txt'\n",
    "\n",
    "with open(filename, \"r\") as lines:\n",
    "    for line in lines:\n",
    "        data.append(line)\n",
    "\n",
    "# Построить граф\n",
    "graph = BuildGraph(data)\n",
    "\n",
    "# Проверить на ацикличность\n",
    "print(\"Is graph acycle:\", IsGraphAcycle(graph))\n",
    "\n",
    "# Добавить Start и End ноды\n",
    "AddStartNode(graph, 'Start')\n",
    "AddEndNode(graph, 'End')\n",
    "\n",
    "# Построить перевернутый граф\n",
    "flipped_graph = BuildFlippedGraph(graph, 'Start')\n",
    "\n",
    "# Пронумеровать оба графа\n",
    "numbering = BuildTopologicalNumbering(graph, 'Start')\n",
    "flipped_numbering = BuildTopologicalNumbering(flipped_graph, 'End')\n",
    "\n",
    "# Построить DomTree и PostDomTree\n",
    "dom_tree = BuildDomTree(graph, 'Start')\n",
    "post_dom_tree = BuildDomTree(flipped_graph, 'End')\n",
    "\n",
    "# Вывести графы\n",
    "RenderGraph(graph, 'Graph', numbering)\n",
    "RenderGraph(flipped_graph, 'FlippedGraph', flipped_numbering)\n",
    "RenderGraph(dom_tree, 'DomTree')\n",
    "RenderGraph(post_dom_tree, 'PostDomTree')"
   ]
  }
 ],
 "metadata": {
  "kernelspec": {
   "display_name": "Python 3 (ipykernel)",
   "language": "python",
   "name": "python3"
  },
  "language_info": {
   "codemirror_mode": {
    "name": "ipython",
    "version": 3
   },
   "file_extension": ".py",
   "mimetype": "text/x-python",
   "name": "python",
   "nbconvert_exporter": "python",
   "pygments_lexer": "ipython3",
   "version": "3.10.12"
  }
 },
 "nbformat": 4,
 "nbformat_minor": 5
}
